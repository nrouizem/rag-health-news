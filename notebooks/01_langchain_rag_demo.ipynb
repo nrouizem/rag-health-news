{
 "cells": [
  {
   "cell_type": "markdown",
   "id": "94ae5072",
   "metadata": {},
   "source": [
    "# Biopharma Deals — RAG Demo (LangChain + FAISS)\n",
    "\n",
    "**Goal:** Natural-language Q&A over curated BioPharma Dive deal articles with **grounded answers and citations**.\n",
    "\n",
    "**Why RAG for customer success?** Retrieval-augmented generation combines an LLM with a searchable index of **client-relevant, current** documents. It boosts accuracy and adds citations (trust), and makes demos fast for discovery workshops and MVPs."
   ]
  },
  {
   "cell_type": "code",
   "execution_count": 2,
   "id": "4c81c5b3",
   "metadata": {},
   "outputs": [
    {
     "name": "stdout",
     "output_type": "stream",
     "text": [
      "✅ Env ready\n"
     ]
    }
   ],
   "source": [
    "import os, json, textwrap, datetime as dt\n",
    "from pathlib import Path\n",
    "\n",
    "from langchain_openai import OpenAIEmbeddings, ChatOpenAI\n",
    "from langchain_community.vectorstores import FAISS\n",
    "from langchain.chains import RetrievalQA\n",
    "from langchain.prompts import PromptTemplate\n",
    "\n",
    "INDEX_DIR = \"../faiss_index\"\n",
    "MODEL = \"gpt-4o-mini\"\n",
    "K = 4\n",
    "\n",
    "# sanity check\n",
    "assert os.getenv(\"OPENAI_API_KEY\"), \"Please set OPENAI_API_KEY in your env.\"\n",
    "Path(INDEX_DIR).exists() or (_ for _ in ()).throw(FileNotFoundError(f\"{INDEX_DIR}/ not found\"))\n",
    "print(\"✅ Env ready\")"
   ]
  },
  {
   "cell_type": "code",
   "execution_count": 3,
   "id": "fadfe387",
   "metadata": {},
   "outputs": [
    {
     "name": "stdout",
     "output_type": "stream",
     "text": [
      "✅ FAISS loaded\n"
     ]
    }
   ],
   "source": [
    "embeddings = OpenAIEmbeddings()\n",
    "vs = FAISS.load_local(INDEX_DIR, embeddings=embeddings, allow_dangerous_deserialization=True)\n",
    "retriever = vs.as_retriever(search_kwargs={\"k\": K})\n",
    "print(\"✅ FAISS loaded\")"
   ]
  },
  {
   "cell_type": "code",
   "execution_count": 4,
   "id": "9144dbb0",
   "metadata": {},
   "outputs": [],
   "source": [
    "PROMPT = PromptTemplate(\n",
    "    input_variables=[\"context\", \"question\"],\n",
    "    template=textwrap.dedent(\"\"\"\n",
    "    You are an analyst assistant. Use ONLY the provided context to answer.\n",
    "    If the context is insufficient, say \"I don't know\".\n",
    "\n",
    "    Format the answer as concise bullets.\n",
    "    After any claim, append citations like: [Title — Source, Date].\n",
    "    If a URL is available, format citations as: [Title](URL) — Source, Date.\n",
    "\n",
    "    Context:\n",
    "    {context}\n",
    "\n",
    "    Question: {question}\n",
    "\n",
    "    Answer:\n",
    "    \"\"\").strip()\n",
    ")"
   ]
  },
  {
   "cell_type": "code",
   "execution_count": 5,
   "id": "02c60cfe",
   "metadata": {},
   "outputs": [
    {
     "name": "stdout",
     "output_type": "stream",
     "text": [
      "✅ QA chain ready\n"
     ]
    }
   ],
   "source": [
    "llm = ChatOpenAI(model=MODEL, temperature=0)\n",
    "qa = RetrievalQA.from_chain_type(\n",
    "    llm=llm,\n",
    "    retriever=retriever,\n",
    "    chain_type=\"stuff\",\n",
    "    chain_type_kwargs={\"prompt\": PROMPT},\n",
    "    return_source_documents=True,\n",
    ")\n",
    "print(\"✅ QA chain ready\")"
   ]
  },
  {
   "cell_type": "code",
   "execution_count": 6,
   "id": "4df02cec",
   "metadata": {},
   "outputs": [],
   "source": [
    "from IPython.display import Markdown, display\n",
    "\n",
    "def render_answer(result):\n",
    "    \"\"\"Pretty-print answer + deduped citations.\"\"\"\n",
    "    answer = result[\"result\"]\n",
    "    docs   = result.get(\"source_documents\", []) or []\n",
    "    # Dedupe by (title, url, date)\n",
    "    seen, cites = set(), []\n",
    "    for d in docs:\n",
    "        m = d.metadata or {}\n",
    "        title = m.get(\"title\") or \"(untitled)\"\n",
    "        url   = m.get(\"source_url\")\n",
    "        date  = m.get(\"date\") or \"n.d.\"\n",
    "        key   = (title, url, date)\n",
    "        if key in seen: \n",
    "            continue\n",
    "        seen.add(key)\n",
    "        if url:\n",
    "            cites.append(f\"- [{title}]({url}) ({date})\")\n",
    "        else:\n",
    "            cites.append(f\"- {title} ({date})\")\n",
    "    md = f\"{answer}\\n\\n**Citations:**\\n\" + (\"\\n\".join(cites) if cites else \"- (none)\")\n",
    "    display(Markdown(md))"
   ]
  },
  {
   "cell_type": "code",
   "execution_count": 9,
   "id": "2ef99e2b",
   "metadata": {},
   "outputs": [
    {
     "name": "stdout",
     "output_type": "stream",
     "text": [
      "Q: List all deals in 2025 that included contingent value rights (CVRs). What milestones are they tied to?\n"
     ]
    },
    {
     "data": {
      "text/markdown": [
       "- **Eli Lilly – Verve Therapeutics**\n",
       "  - Disclosed Value: $1 billion\n",
       "  - CVR tied to: Advancement of the experimental VERVE-102 treatment to dose a patient in a Phase 3 trial within 10 years of the transaction’s closing. [Eli Lilly – deal – Verve Therapeutics] — Source, 6/17/2025.\n",
       "\n",
       "**Citations:**\n",
       "- Eli Lilly – deal – Verve Therapeutics (6/17/2025)\n",
       "- Sanofi – deal – Vigil Neuroscience (5/21/2025)\n",
       "- Sobi – deal – CTI Biopharma (5/10/2023)\n",
       "- Bayer – deal – Vividion Therapeutics (8/5/2021)"
      ],
      "text/plain": [
       "<IPython.core.display.Markdown object>"
      ]
     },
     "metadata": {},
     "output_type": "display_data"
    },
    {
     "name": "stdout",
     "output_type": "stream",
     "text": [
      "--------------------------------------------------------------------------------\n",
      "Q: Compare the CVR structures in the Roche-89bio and Pfizer-Metsera deals.\n"
     ]
    },
    {
     "data": {
      "text/markdown": [
       "- **Roche-89bio Deal**: \n",
       "  - Roche could pay an additional $6 per share via contingent value rights (CVR) if 89bio’s drug, pegozafermin, is approved and meets certain sales targets. \n",
       "  - The base deal values 89bio at $2.4 billion, potentially rising to $3.5 billion with CVR payouts [Roche – deal – 89bio](#) — Source, 9/18/2025.\n",
       "\n",
       "- **Pfizer-Metsera Deal**: \n",
       "  - No information on contingent value rights (CVR) or additional payouts was provided in the context for this deal [Pfizer – deal – Metsera](#) — Source, 9/22/2025.\n",
       "\n",
       "- **Comparison**: \n",
       "  - The Roche-89bio deal includes a specific CVR structure tied to drug approval and sales, while the Pfizer-Metsera deal lacks any disclosed CVR information.\n",
       "\n",
       "**Citations:**\n",
       "- Pfizer – deal – Metsera (9/22/2025)\n",
       "- Roche – deal – 89bio (9/18/2025)\n",
       "- Pfizer – deal – Biohaven Pharmaceuticals (5/10/2022)"
      ],
      "text/plain": [
       "<IPython.core.display.Markdown object>"
      ]
     },
     "metadata": {},
     "output_type": "display_data"
    },
    {
     "name": "stdout",
     "output_type": "stream",
     "text": [
      "--------------------------------------------------------------------------------\n",
      "Q: Summarize the announced deal values and contingent payouts for Roche-89bio and Novartis-Tourmaline.\n"
     ]
    },
    {
     "data": {
      "text/markdown": [
       "- **Roche-89bio**: \n",
       "  - Disclosed deal value: $2.4 billion.\n",
       "  - Potential additional payouts: Up to $6 per share, totaling $3.5 billion if certain sales targets are met. [Roche – deal – 89bio — Source, 9/18/2025]\n",
       "\n",
       "- **Novartis-Tourmaline**: \n",
       "  - Disclosed deal value: $1.4 billion. \n",
       "  - No contingent payouts mentioned. [Novartis – deal – Tourmaline Bio — Source, 9/9/2025]\n",
       "\n",
       "**Citations:**\n",
       "- Roche – deal – 89bio (9/18/2025)\n",
       "- Novartis – deal – Tourmaline Bio (9/9/2025)\n",
       "- Roche – deal – Telavant (10/23/2023)\n",
       "- Novartis – deal – Morphosys (2/5/2024)"
      ],
      "text/plain": [
       "<IPython.core.display.Markdown object>"
      ]
     },
     "metadata": {},
     "output_type": "display_data"
    },
    {
     "name": "stdout",
     "output_type": "stream",
     "text": [
      "--------------------------------------------------------------------------------\n",
      "Q: List the most frequently mentioned financial advisors across deals in September 2025.\n"
     ]
    },
    {
     "data": {
      "text/markdown": [
       "- Guggenheim Securities [Pfizer – deal – Metsera — Source, 9/22/2025]\n",
       "- Citi [Pfizer – deal – Metsera — Source, 9/22/2025]\n",
       "- Goldman Sachs [Pfizer – deal – Metsera — Source, 9/22/2025]\n",
       "\n",
       "**Citations:**\n",
       "- Pfizer – deal – Seagen (3/13/2023)\n",
       "- Pfizer – deal – Metsera (9/22/2025)\n",
       "- Eli Lilly – deal – Point Biopharma (10/3/2023)\n",
       "- AbbVie – deal – Allergan (06/25/2019)"
      ],
      "text/plain": [
       "<IPython.core.display.Markdown object>"
      ]
     },
     "metadata": {},
     "output_type": "display_data"
    },
    {
     "name": "stdout",
     "output_type": "stream",
     "text": [
      "--------------------------------------------------------------------------------\n",
      "Q: Why did Roche acquire 89bio? What condition is its lead drug targeting?\n"
     ]
    },
    {
     "data": {
      "text/markdown": [
       "- Roche acquired 89bio to gain access to its drug pegozafermin, which is being developed as a treatment for metabolic dysfunction-associated steatohepatitis (MASH) — a liver condition characterized by fat buildup, inflammation, and scarring [Roche – deal – 89bio](#) — Source, 9/18/2025.\n",
       "- The acquisition aims to position Roche competitively in the MASH drug market, which has seen increased interest due to the condition's prevalence and the recent approval of similar treatments [Roche – deal – 89bio](#) — Source, 9/18/2025.\n",
       "\n",
       "**Citations:**\n",
       "- Roche – deal – 89bio (9/18/2025)\n",
       "- Roche – deal – Poseida Therapeutics (11/26/2024)\n",
       "- Roche – deal – Spark Therapeutics (02/25/2019)\n",
       "- Roche – deal – Telavant (10/23/2023)"
      ],
      "text/plain": [
       "<IPython.core.display.Markdown object>"
      ]
     },
     "metadata": {},
     "output_type": "display_data"
    },
    {
     "name": "stdout",
     "output_type": "stream",
     "text": [
      "--------------------------------------------------------------------------------\n",
      "Q: Which deals focus on cardiovascular or liver diseases?\n"
     ]
    },
    {
     "data": {
      "text/markdown": [
       "- **Gilead – Myr Pharmaceuticals**: Focuses on chronic hepatitis D, a liver infection. [Gilead – deal – Myr Pharmaceuticals](#) — Source, 12/10/2020.\n",
       "- **Eli Lilly – Verve Therapeutics**: Focuses on gene therapies for cardiovascular disease. [Eli Lilly – deal – Verve Therapeutics](#) — Source, 6/17/2025.\n",
       "\n",
       "**Citations:**\n",
       "- Gilead – deal – Myr Pharmaceuticals (12/10/2020)\n",
       "- Bayer – deal – Asklepios Biopharmaceuticals (10/26/2020)\n",
       "-  Bristol Myers Squibb – deal – Myokardia (10/05/2020)\n",
       "- Eli Lilly – deal – Verve Therapeutics (6/17/2025)"
      ],
      "text/plain": [
       "<IPython.core.display.Markdown object>"
      ]
     },
     "metadata": {},
     "output_type": "display_data"
    },
    {
     "name": "stdout",
     "output_type": "stream",
     "text": [
      "--------------------------------------------------------------------------------\n"
     ]
    }
   ],
   "source": [
    "questions = [\n",
    "    \"List all deals in 2025 that included contingent value rights (CVRs). What milestones are they tied to?\",\n",
    "    \"Compare the CVR structures in the Roche-89bio and Pfizer-Metsera deals.\",\n",
    "    \"Summarize the announced deal values and contingent payouts for Roche-89bio and Novartis-Tourmaline.\",\n",
    "    \"List the most frequently mentioned financial advisors across deals in September 2025.\",\n",
    "    \"Why did Roche acquire 89bio? What condition is its lead drug targeting?\",\n",
    "    \"Which deals focus on cardiovascular or liver diseases?\"\n",
    "]\n",
    "\n",
    "for q in questions:\n",
    "    print(\"Q:\", q)\n",
    "    res = qa.invoke({\"query\": q})\n",
    "    render_answer(res)\n",
    "    print(\"-\" * 80)"
   ]
  },
  {
   "cell_type": "code",
   "execution_count": null,
   "id": "6c8686ed",
   "metadata": {},
   "outputs": [],
   "source": []
  }
 ],
 "metadata": {
  "kernelspec": {
   "display_name": "rag-demo",
   "language": "python",
   "name": "python3"
  },
  "language_info": {
   "codemirror_mode": {
    "name": "ipython",
    "version": 3
   },
   "file_extension": ".py",
   "mimetype": "text/x-python",
   "name": "python",
   "nbconvert_exporter": "python",
   "pygments_lexer": "ipython3",
   "version": "3.12.11"
  }
 },
 "nbformat": 4,
 "nbformat_minor": 5
}
